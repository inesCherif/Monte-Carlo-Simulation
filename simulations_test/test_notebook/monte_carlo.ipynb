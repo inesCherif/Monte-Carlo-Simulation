{
  "metadata": {
    "kernelspec": {
      "name": "python",
      "display_name": "Python (Pyodide)",
      "language": "python"
    },
    "language_info": {
      "codemirror_mode": {
        "name": "python",
        "version": 3
      },
      "file_extension": ".py",
      "mimetype": "text/x-python",
      "name": "python",
      "nbconvert_exporter": "python",
      "pygments_lexer": "ipython3",
      "version": "3.8"
    }
  },
  "nbformat_minor": 5,
  "nbformat": 4,
  "cells": [
    {
      "id": "ff3bb328-b1ee-47a3-be8f-0353f1027ce2",
      "cell_type": "code",
      "source": "import random\n\ncorrect_facts = 10  \nprob_correct_guess = 0.001  \nnum_simulations = 10_000  \nsuccess_count = 0\n\nfor i in range(num_simulations):\n    guesses = [random.random() < prob_correct_guess for i in range(correct_facts)]\n    if all(guesses):\n        success_count += 1\n\n\nestimated_probability = success_count / num_simulations\n\nprint(f\"After {num_simulations} simulations, the probability of a random book from the 7th century \"\n      f\"guessing all {correct_facts} facts correctly is approximately {estimated_probability:.10f}\")\n",
      "metadata": {
        "trusted": true
      },
      "outputs": [
        {
          "name": "stdout",
          "output_type": "stream",
          "text": "After 10000 simulations, the probability of a random book from the 7th century guessing all 10 facts correctly is approximately 0.0000000000\n"
        }
      ],
      "execution_count": 2
    },
    {
      "id": "0673cabc-3745-4793-ad24-b8d7a963ed3b",
      "cell_type": "code",
      "source": "import random\n\nnum_simulations = 10000 \npredictions = 5 \nprob_correct_prediction = 0.01  \nsuccess_count = 0  \n\nfor i in range(num_simulations):\n    guesses = [random.random() < prob_correct_prediction for i in range(predictions)]\n    \n    if all(guesses):\n        success_count += 1\n        \nestimated_probability = success_count / num_simulations\nprint(f\"The probability of a random person predicting all events correctly: {estimated_probability:.10f}\")\n",
      "metadata": {
        "trusted": true
      },
      "outputs": [
        {
          "name": "stdout",
          "output_type": "stream",
          "text": "The probability of a random person predicting all events correctly: 0.0000000000\n"
        }
      ],
      "execution_count": 3
    },
    {
      "id": "6b6ae90a-1a24-4ffc-a4a7-7536a7c576ec",
      "cell_type": "code",
      "source": "import random\n\nnum_simulations = 10000  \nnum_gods = 3  \nnum_laws = 5  \nstability_threshold = 0.8  \nstable_universes = 0  \n\nfor i in range(num_simulations):\n    laws = [[random.choice([0, 1]) for i in range(num_laws)] for i in range(num_gods)]\n\n    stable_laws = sum(all(law[j] == laws[0][j] for law in laws) for j in range(num_laws))\n    \n    if stable_laws / num_laws >= stability_threshold:\n        stable_universes += 1\n\nestimated_probability = stable_universes / num_simulations\nprint(f\"Probability of a stable universe with multiple gods: {estimated_probability:.10f}\")",
      "metadata": {
        "trusted": true
      },
      "outputs": [
        {
          "name": "stdout",
          "output_type": "stream",
          "text": "Probability of a stable universe with multiple gods: 0.0174000000\n"
        }
      ],
      "execution_count": 4
    },
    {
      "id": "d7ae5113-921d-477a-aa9b-9aa27eda9e9d",
      "cell_type": "code",
      "source": "import random\n\nnum_simulations = 10000 \nnum_generations = 50  \nchange_prob_other_books = 0.02 \nchange_prob_quran = 0.00001  \n\nunchanged_other_books = 0  \nunchanged_quran = 0  \n\nfor i in range(num_simulations):\n    book_changed = any(random.random() < change_prob_other_books for i in range(num_generations))\n    if not book_changed:\n        unchanged_other_books += 1\n\n    quran_changed = any(random.random() < change_prob_quran for i in range(num_generations))\n    if not quran_changed:\n        unchanged_quran += 1\n\nprob_other_books = unchanged_other_books / num_simulations\nprob_quran = unchanged_quran / num_simulations\n\nprint(f\"Probability of a book being perfectly preserved: {prob_other_books:.5f}\")\nprint(f\"Probability of the Quran being perfectly preserved: {prob_quran:.5f}\")\n",
      "metadata": {
        "trusted": true
      },
      "outputs": [
        {
          "name": "stdout",
          "output_type": "stream",
          "text": "Probability of a book being perfectly preserved: 0.36320\nProbability of the Quran being perfectly preserved: 1.00000\n"
        }
      ],
      "execution_count": 6
    },
    {
      "id": "31f551df-069c-430f-ba11-9f4aba94267e",
      "cell_type": "code",
      "source": "import random\nnum_simulations = 10000  \ntime_slots = [\"Morning\", \"Afternoon\", \"Evening\", \"Night\"]\nlife_events = [\"Normal Day\", \"Personal Loss\", \"Major Reflection\", \"Life Success\"]\nreceptiveness_base = {\"Morning\": 0.2, \"Afternoon\": 0.3, \"Evening\": 0.4, \"Night\": 0.35}\nreceptiveness_life_event = {\"Normal Day\": 0, \"Personal Loss\": 0.5, \"Major Reflection\": 0.6, \"Life Success\": 0.3}\nreceptive_counts = {key: 0 for key in time_slots + list(receptiveness_life_event.keys())}\nfor i in range(num_simulations):\n    time = random.choice(time_slots)\n    event = random.choices(list(receptiveness_life_event.keys()), weights=[0.7, 0.1, 0.15, 0.05])[0]\n    receptive_probability = receptiveness_base[time] + receptiveness_life_event[event]\n    if random.random() < receptive_probability:\n        receptive_counts[time] += 1\n        receptive_counts[event] += 1\nfor key in receptive_counts:\n    receptive_counts[key] /= num_simulations\nprint(\"Receptiveness Probability by Time of Day:\")\nfor time in time_slots:\n    print(f\"{time}: {receptive_counts[time]:.2%}\")\nprint(\"\\nReceptiveness Probability by Life Event:\")\nfor event in life_events:\n    print(f\"{event}: {receptive_counts[event]:.2%}\")",
      "metadata": {
        "trusted": true
      },
      "outputs": [
        {
          "name": "stdout",
          "output_type": "stream",
          "text": "Receptiveness Probability by Time of Day:\nMorning: 9.62%\nAfternoon: 11.26%\nEvening: 13.95%\nNight: 11.83%\n\nReceptiveness Probability by Life Event:\nNormal Day: 21.55%\nPersonal Loss: 8.23%\nMajor Reflection: 13.72%\nLife Success: 3.16%\n"
        }
      ],
      "execution_count": 9
    },
    {
      "id": "b64c3b9c-6871-49f5-8732-ef4c724f415c",
      "cell_type": "code",
      "source": "",
      "metadata": {
        "trusted": true
      },
      "outputs": [],
      "execution_count": null
    }
  ]
}